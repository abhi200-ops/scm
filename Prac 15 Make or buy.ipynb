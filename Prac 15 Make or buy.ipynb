{
 "cells": [
  {
   "cell_type": "code",
   "execution_count": 1,
   "id": "359c80e8-a0b6-43f2-a7a9-26e3d4995a26",
   "metadata": {},
   "outputs": [],
   "source": [
    "# Assumption 1\n",
    "\n",
    "\n",
    "#cost structure\n",
    "direct_materials = 600000\n",
    "direct_labor = 500000\n",
    "variable_overhead = 300000\n",
    "fixed_overhead = 400000\n",
    "\n",
    "\n",
    "# Total cost for manufacturing\n",
    "total_cost_make = direct_materials + direct_labor + variable_overhead + fixed_overhead\n",
    "\n",
    "\n",
    "# Offer from Tulsa Inc.\n",
    "purchase_price = 1500000\n",
    "\n",
    "\n",
    "# Opportunity cost (avoided fixed overhead)\n",
    "opportunity_cost = 300000\n",
    "\n",
    "\n",
    "net_income_diff = total_cost_make - purchase_price - opportunity_cost\n",
    "\n",
    "\n",
    "\n"
   ]
  },
  {
   "cell_type": "code",
   "execution_count": 2,
   "id": "c7bce580-b6ba-4fe1-8eb5-a37483b4b5a7",
   "metadata": {},
   "outputs": [
    {
     "name": "stdout",
     "output_type": "stream",
     "text": [
      "Assumption 1: Accept the offer from Tulsa Inc.\n",
      "Net Income Increase (Decrease): 0\n",
      "Assumption 2: Accept the offer from Tulsa Inc.\n",
      "Net Income Increase (Decrease): 200000\n"
     ]
    }
   ],
   "source": [
    "if net_income_diff < 0:\n",
    "    decision = \"Reject the offer from Tulsa Inc.\"\n",
    "else:\n",
    "    decision = \"Accept the offer from Tulsa Inc.\"\n",
    "\n",
    "\n",
    "print(\"Assumption 1:\", decision)\n",
    "print(\"Net Income Increase (Decrease):\", net_income_diff)\n",
    "\n",
    "\n",
    "\n",
    "# Assumption 2\n",
    "\n",
    "\n",
    "# Additional income from released resources\n",
    "additional_income = 200000\n",
    "\n",
    "\n",
    "net_income_diff = additional_income\n",
    "\n",
    "\n",
    "if net_income_diff < 0:\n",
    "    decision = \"Reject the offer from Tulsa Inc.\"\n",
    "else:\n",
    "    decision = \"Accept the offer from Tulsa Inc.\"\n",
    "\n",
    "\n",
    "print(\"Assumption 2:\", decision)\n",
    "print(\"Net Income Increase (Decrease):\", net_income_diff)\n"
   ]
  },
  {
   "cell_type": "code",
   "execution_count": null,
   "id": "5b5a2c01-8d10-4681-b02b-c91b850bdaed",
   "metadata": {},
   "outputs": [],
   "source": []
  }
 ],
 "metadata": {
  "kernelspec": {
   "display_name": "Python 3 (ipykernel)",
   "language": "python",
   "name": "python3"
  },
  "language_info": {
   "codemirror_mode": {
    "name": "ipython",
    "version": 3
   },
   "file_extension": ".py",
   "mimetype": "text/x-python",
   "name": "python",
   "nbconvert_exporter": "python",
   "pygments_lexer": "ipython3",
   "version": "3.11.7"
  }
 },
 "nbformat": 4,
 "nbformat_minor": 5
}

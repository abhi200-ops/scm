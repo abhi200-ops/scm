{
 "cells": [
  {
   "cell_type": "code",
   "execution_count": 1,
   "id": "1f67c43d-6e00-45de-aba0-d8b86735242d",
   "metadata": {},
   "outputs": [
    {
     "name": "stdout",
     "output_type": "stream",
     "text": [
      "Optimal Solution of Primal Problem:\n",
      "x1 = 18.0\n",
      "x2 = 10.0\n",
      "Optimal Objective Value = 20400.0\n",
      "\n",
      "Optimal Solution of Dual Problem:\n",
      "y1 = 1.1\n",
      "y2 = 2.1\n",
      "Optimal Objective Value (Dual) = 20400.0\n"
     ]
    }
   ],
   "source": [
    "import pulp\n",
    "\n",
    "# Define the primal problem\n",
    "prob = pulp.LpProblem(\"Primal\", pulp.LpMaximize)\n",
    "\n",
    "# Define decision variables\n",
    "x1 = pulp.LpVariable(\"x1\", lowBound=0)\n",
    "x2 = pulp.LpVariable(\"x2\", lowBound=0)\n",
    "\n",
    "# Define objective function\n",
    "prob += 800 * x1 + 600 * x2\n",
    "\n",
    "# Define constraints\n",
    "prob += 250 * x1 + 450 *x2 <= 9000\n",
    "prob += 250 *x1 + 50 * x2 <= 5000\n",
    "\n",
    "# Solve the primal problem\n",
    "prob.solve()\n",
    "\n",
    "# Print the optimal solution\n",
    "print(\"Optimal Solution of Primal Problem:\")\n",
    "print(\"x1 =\", pulp.value(x1))\n",
    "print(\"x2 =\", pulp.value(x2))\n",
    "print(\"Optimal Objective Value =\", pulp.value(prob.objective))\n",
    "\n",
    "# Define the dual problem\n",
    "dual_prob = pulp.LpProblem(\"Dual\", pulp.LpMinimize)\n",
    "\n",
    "# Define dual variables\n",
    "y1 = pulp.LpVariable(\"y1\", lowBound=0)\n",
    "y2 = pulp.LpVariable(\"y2\", lowBound=0)\n",
    "\n",
    "# Define objective function for dual\n",
    "dual_prob += 9000 * y1 + 5000 * y2\n",
    "\n",
    "# Define constraints for dual\n",
    "dual_prob += 250 * y1 +250 * y2 >= 800\n",
    "dual_prob += 450 *y1 + 50 * y2 >= 600\n",
    "\n",
    "# Solve the dual problem\n",
    "dual_prob.solve()\n",
    "\n",
    "# Print the optimal solution for the dual problem\n",
    "print(\"\\nOptimal Solution of Dual Problem:\")\n",
    "print(\"y1 =\", pulp.value(y1))\n",
    "print(\"y2 =\", pulp.value(y2))\n",
    "print(\"Optimal Objective Value (Dual) =\", pulp.value(dual_prob.objective))\n"
   ]
  },
  {
   "cell_type": "code",
   "execution_count": null,
   "id": "927eb5e7-0906-4861-a03b-786a11feb83e",
   "metadata": {},
   "outputs": [],
   "source": []
  }
 ],
 "metadata": {
  "kernelspec": {
   "display_name": "Python 3 (ipykernel)",
   "language": "python",
   "name": "python3"
  },
  "language_info": {
   "codemirror_mode": {
    "name": "ipython",
    "version": 3
   },
   "file_extension": ".py",
   "mimetype": "text/x-python",
   "name": "python",
   "nbconvert_exporter": "python",
   "pygments_lexer": "ipython3",
   "version": "3.11.2"
  }
 },
 "nbformat": 4,
 "nbformat_minor": 5
}

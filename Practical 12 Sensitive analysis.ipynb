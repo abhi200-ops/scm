{
 "cells": [
  {
   "cell_type": "code",
   "execution_count": 2,
   "id": "932ee4ed-fb00-4bf8-aae8-79f38bd5f3c4",
   "metadata": {},
   "outputs": [
    {
     "name": "stdout",
     "output_type": "stream",
     "text": [
      "Best fit curve: polynomial\n",
      "R-squared value: 0.9977172984595446\n",
      "Price: 700 Predicted Demand: 715.2857142580349\n",
      "Price: 800 Predicted Demand: 675.8095237986821\n",
      "Price: 900 Predicted Demand: 637.857142861645\n"
     ]
    },
    {
     "name": "stderr",
     "output_type": "stream",
     "text": [
      "C:\\Users\\Lenovo\\AppData\\Local\\Temp\\ipykernel_7604\\3449484452.py:25: RuntimeWarning: overflow encountered in exp\n",
      "  return a * np.exp(b * x)\n",
      "C:\\Users\\Lenovo\\AppData\\Local\\Programs\\Python\\Python311\\Lib\\site-packages\\scipy\\optimize\\_minpack_py.py:862: RuntimeWarning: overflow encountered in square\n",
      "  cost = np.sum(infodict['fvec'] ** 2)\n",
      "C:\\Users\\Lenovo\\AppData\\Local\\Temp\\ipykernel_7604\\3449484452.py:45: RuntimeWarning: overflow encountered in square\n",
      "  ss_residual = np.sum((y_true - y_pred) ** 2)\n"
     ]
    }
   ],
   "source": [
    "import pandas as pd\n",
    "import numpy as np\n",
    "from scipy.optimize import curve_fit\n",
    "\n",
    "\n",
    "data = {'Price': [500, 1000, 1500, 2000, 2500, 3000, 3500],\n",
    "        'Demand': [800, 600, 450, 300, 250, 200, 180]}\n",
    "\n",
    "\n",
    "df = pd.DataFrame(data)\n",
    "df\n",
    "\n",
    "\n",
    "# Given demand-price data points\n",
    "prices = np.array([500, 1000, 1500, 2000, 2500, 3000, 3500])\n",
    "demands = np.array([800, 600, 450, 300, 250, 200, 180])\n",
    "\n",
    "\n",
    "# Define curve models\n",
    "def linear_func(x, a, b):\n",
    "    return a * x + b\n",
    "\n",
    "\n",
    "def exponential_func(x, a, b):\n",
    "    return a * np.exp(b * x)\n",
    "\n",
    "\n",
    "def logarithmic_func(x, a, b):\n",
    "    return a * np.log(x) + b\n",
    "\n",
    "\n",
    "def polynomial_func(x, a, b, c):\n",
    "    return a * x**2 + b * x + c\n",
    "\n",
    "curve_models = {\n",
    "    'linear': curve_fit(linear_func, prices, demands),\n",
    "    'exponential': curve_fit(exponential_func, prices, demands),\n",
    "    'logarithmic': curve_fit(logarithmic_func, prices, demands),\n",
    "    'polynomial': curve_fit(polynomial_func, prices, demands)\n",
    "}\n",
    "\n",
    "\n",
    "# Evaluate goodness of fit\n",
    "def r_squared(y_true, y_pred):\n",
    "    ss_residual = np.sum((y_true - y_pred) ** 2)\n",
    "    ss_total = np.sum((y_true - np.mean(y_true)) ** 2)\n",
    "    return 1 - (ss_residual / ss_total)\n",
    "\n",
    "\n",
    "r_squared_values = {}\n",
    "for model, (params, _) in curve_models.items():\n",
    "    y_pred = eval(f\"{model}_func(prices, *params)\")\n",
    "    r_squared_values[model] = r_squared(demands, y_pred)\n",
    "\n",
    "\n",
    "# Select best fit curve\n",
    "best_fit_curve = max(r_squared_values, key=r_squared_values.get)\n",
    "print(\"Best fit curve:\", best_fit_curve)\n",
    "print(\"R-squared value:\", r_squared_values[best_fit_curve])\n",
    "\n",
    "additional_prices = [700, 800, 900]\n",
    "for price in additional_prices:\n",
    "    predicted_demand = eval(f\"{best_fit_curve}_func(price, *curve_models[best_fit_curve][0])\")\n",
    "    print(\"Price:\", price, \"Predicted Demand:\", predicted_demand)\n",
    "\n",
    "\n",
    "\n"
   ]
  },
  {
   "cell_type": "code",
   "execution_count": null,
   "id": "bc3baaec-5db2-4fbf-8050-10788804a4ec",
   "metadata": {},
   "outputs": [],
   "source": []
  }
 ],
 "metadata": {
  "kernelspec": {
   "display_name": "Python 3 (ipykernel)",
   "language": "python",
   "name": "python3"
  },
  "language_info": {
   "codemirror_mode": {
    "name": "ipython",
    "version": 3
   },
   "file_extension": ".py",
   "mimetype": "text/x-python",
   "name": "python",
   "nbconvert_exporter": "python",
   "pygments_lexer": "ipython3",
   "version": "3.11.2"
  }
 },
 "nbformat": 4,
 "nbformat_minor": 5
}

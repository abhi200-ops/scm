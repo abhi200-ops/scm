{
 "cells": [
  {
   "cell_type": "code",
   "execution_count": 1,
   "id": "f9501665",
   "metadata": {},
   "outputs": [],
   "source": [
    "demand = 17000\n",
    "unit_cost = 0.45\n",
    "fixed_cost = 45000.00"
   ]
  },
  {
   "cell_type": "code",
   "execution_count": 2,
   "id": "e83bbaa8",
   "metadata": {},
   "outputs": [],
   "source": [
    "variable_cost = unit_cost * demand\n",
    "total_cost = fixed_cost + variable_cost\n",
    "current_price = total_cost / demand"
   ]
  },
  {
   "cell_type": "code",
   "execution_count": 3,
   "id": "a241eaa0",
   "metadata": {},
   "outputs": [],
   "source": [
    "while True:\n",
    "    revenue = current_price * demand\n",
    "    profit = revenue - total_cost\n",
    "\n",
    "    if abs(profit) < 0.01: \n",
    "        break\n",
    "\n",
    "    current_price += 0.01  \n"
   ]
  },
  {
   "cell_type": "code",
   "execution_count": 4,
   "id": "a0a7b334",
   "metadata": {},
   "outputs": [
    {
     "name": "stdout",
     "output_type": "stream",
     "text": [
      "The minimum price for zero profit is: £3.10\n"
     ]
    }
   ],
   "source": [
    "print(f\"The minimum price for zero profit is: £{current_price:.2f}\")\n"
   ]
  },
  {
   "cell_type": "code",
   "execution_count": null,
   "id": "569e3552",
   "metadata": {},
   "outputs": [],
   "source": []
  },
  {
   "cell_type": "code",
   "execution_count": null,
   "id": "c7e4ab03-7681-42e6-aedd-e782c27ad053",
   "metadata": {},
   "outputs": [],
   "source": []
  }
 ],
 "metadata": {
  "kernelspec": {
   "display_name": "Python 3 (ipykernel)",
   "language": "python",
   "name": "python3"
  },
  "language_info": {
   "codemirror_mode": {
    "name": "ipython",
    "version": 3
   },
   "file_extension": ".py",
   "mimetype": "text/x-python",
   "name": "python",
   "nbconvert_exporter": "python",
   "pygments_lexer": "ipython3",
   "version": "3.11.7"
  }
 },
 "nbformat": 4,
 "nbformat_minor": 5
}

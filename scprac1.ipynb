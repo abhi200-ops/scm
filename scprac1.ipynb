{
 "cells": [
  {
   "cell_type": "code",
   "execution_count": 1,
   "id": "3774565e",
   "metadata": {},
   "outputs": [],
   "source": [
    "import numpy as np\n",
    "import pandas as pd\n",
    "from pulp import *"
   ]
  },
  {
   "cell_type": "code",
   "execution_count": 2,
   "id": "ee15d547",
   "metadata": {},
   "outputs": [],
   "source": [
    "prob=LpProblem('transportation',LpMinimize)"
   ]
  },
  {
   "cell_type": "code",
   "execution_count": 3,
   "id": "186aad56",
   "metadata": {},
   "outputs": [],
   "source": [
    "x11=LpVariable('x11',0)\n",
    "x12=LpVariable('x12',0)\n",
    "x13=LpVariable('x13',0)\n",
    "x14=LpVariable('x14',0)\n",
    "x21=LpVariable('x21',0)\n",
    "x22=LpVariable('x22',0)\n",
    "x23=LpVariable('x23',0)\n",
    "x24=LpVariable('x24',0)\n",
    "x31=LpVariable('x31',0)\n",
    "x32=LpVariable('x32',0)\n",
    "x33=LpVariable('x33',0)\n",
    "x34=LpVariable('x34',0)"
   ]
  },
  {
   "cell_type": "code",
   "execution_count": 4,
   "id": "c0108199",
   "metadata": {},
   "outputs": [],
   "source": [
    "prob += 3*x11+2*x12+7*x13+6*x14+7*x21+5*x22+2*x23+3*x24+2*x31+5*x32+4*x33+5*x34"
   ]
  },
  {
   "cell_type": "code",
   "execution_count": 5,
   "id": "d51b9fba",
   "metadata": {},
   "outputs": [],
   "source": [
    "prob +=  x11+x21+x31==6000\n",
    "prob +=  x12+x22+x32==4000\n",
    "prob +=  x13+x23+x33==2000\n",
    "prob +=  x14+x24+x34==1500\n",
    "prob +=  x11+x12+x13+x14<=5000\n",
    "prob +=  x21+x22+x23+x24<=6000\n",
    "prob +=  x31+x32+x33+x34<=2500"
   ]
  },
  {
   "cell_type": "code",
   "execution_count": 6,
   "id": "38b38f81",
   "metadata": {},
   "outputs": [
    {
     "data": {
      "text/plain": [
       "1"
      ]
     },
     "execution_count": 6,
     "metadata": {},
     "output_type": "execute_result"
    }
   ],
   "source": [
    "prob.solve()"
   ]
  },
  {
   "cell_type": "code",
   "execution_count": 7,
   "id": "cfba539b",
   "metadata": {},
   "outputs": [
    {
     "name": "stdout",
     "output_type": "stream",
     "text": [
      "Optimal\n"
     ]
    }
   ],
   "source": [
    "print(LpStatus[prob.status])"
   ]
  },
  {
   "cell_type": "code",
   "execution_count": 8,
   "id": "1dabd735",
   "metadata": {},
   "outputs": [
    {
     "name": "stdout",
     "output_type": "stream",
     "text": [
      "x11 3500.0\n",
      "x12 1500.0\n",
      "x13 0.0\n",
      "x14 0.0\n",
      "x21 0.0\n",
      "x22 2500.0\n",
      "x23 2000.0\n",
      "x24 1500.0\n",
      "x31 2500.0\n",
      "x32 0.0\n",
      "x33 0.0\n",
      "x34 0.0\n"
     ]
    }
   ],
   "source": [
    "for v in prob.variables():\n",
    "    print(v.name,v.varValue)"
   ]
  },
  {
   "cell_type": "code",
   "execution_count": 9,
   "id": "1d78819f",
   "metadata": {},
   "outputs": [
    {
     "name": "stdout",
     "output_type": "stream",
     "text": [
      "optimal value is 39500.0\n"
     ]
    }
   ],
   "source": [
    "print('optimal value is',value(prob.objective))"
   ]
  },
  {
   "cell_type": "code",
   "execution_count": null,
   "id": "64cf1af0",
   "metadata": {},
   "outputs": [],
   "source": []
  }
 ],
 "metadata": {
  "kernelspec": {
   "display_name": "Python 3 (ipykernel)",
   "language": "python",
   "name": "python3"
  },
  "language_info": {
   "codemirror_mode": {
    "name": "ipython",
    "version": 3
   },
   "file_extension": ".py",
   "mimetype": "text/x-python",
   "name": "python",
   "nbconvert_exporter": "python",
   "pygments_lexer": "ipython3",
   "version": "3.11.2"
  }
 },
 "nbformat": 4,
 "nbformat_minor": 5
}

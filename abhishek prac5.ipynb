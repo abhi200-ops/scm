{
 "cells": [
  {
   "cell_type": "code",
   "execution_count": 1,
   "id": "a36db059",
   "metadata": {},
   "outputs": [],
   "source": [
    "from pulp import *"
   ]
  },
  {
   "cell_type": "code",
   "execution_count": 13,
   "id": "962db0cc",
   "metadata": {},
   "outputs": [
    {
     "name": "stderr",
     "output_type": "stream",
     "text": [
      "C:\\Users\\acer\\anaconda3\\Lib\\site-packages\\pulp\\pulp.py:1316: UserWarning: Spaces are not permitted in the name. Converted to '_'\n",
      "  warnings.warn(\"Spaces are not permitted in the name. Converted to '_'\")\n"
     ]
    }
   ],
   "source": [
    "prob = LpProblem(\"Simple LP problem\",LpMaximize)\n",
    "x12= LpVariable(\"x12\",lowBound=0,upBound=6)\n",
    "x13= LpVariable(\"x13\",lowBound=0,upBound=4)\n",
    "x24= LpVariable(\"x24\",lowBound=0,upBound=3)\n",
    "x25= LpVariable(\"x25\",lowBound=0,upBound=2)\n",
    "x34= LpVariable(\"x34\",lowBound=0,upBound=2)\n",
    "x35= LpVariable(\"x35\",lowBound=0,upBound=5)\n",
    "x46= LpVariable(\"x46\",lowBound=0,upBound=6)\n",
    "x56= LpVariable(\"x56\",lowBound=0,upBound=4)\n",
    "x61= LpVariable(\"x61\",lowBound=0)"
   ]
  },
  {
   "cell_type": "code",
   "execution_count": 14,
   "id": "60bbe234",
   "metadata": {},
   "outputs": [],
   "source": [
    "prob+=+x61"
   ]
  },
  {
   "cell_type": "code",
   "execution_count": 15,
   "id": "43e48eed",
   "metadata": {},
   "outputs": [],
   "source": [
    "prob+=+x61 - x12 - x13 == 0\n",
    "prob+=+x12 - x24 - x25 == 0\n",
    "prob+=+x13 - x34 - x35 ==0\n",
    "prob+=+x24 + x34 - x46 == 0\n",
    "prob+=+x25 + x35 - x56 == 0\n",
    "prob+=+x46 + x56 - x61 == 0"
   ]
  },
  {
   "cell_type": "code",
   "execution_count": 16,
   "id": "97c287ec",
   "metadata": {},
   "outputs": [
    {
     "data": {
      "text/plain": [
       "1"
      ]
     },
     "execution_count": 16,
     "metadata": {},
     "output_type": "execute_result"
    }
   ],
   "source": [
    "prob.solve()"
   ]
  },
  {
   "cell_type": "code",
   "execution_count": 17,
   "id": "c6c7547a",
   "metadata": {},
   "outputs": [
    {
     "name": "stdout",
     "output_type": "stream",
     "text": [
      "x12 m 5.0\n",
      "x13 m 4.0\n",
      "x24 m 3.0\n",
      "x25 m 2.0\n",
      "x34 m 2.0\n",
      "x35 m 2.0\n",
      "x46 m 5.0\n",
      "x56 m 4.0\n",
      "x61 m 9.0\n"
     ]
    }
   ],
   "source": [
    "for v in prob.variables():\n",
    "    print(v.name,\"m\",v.varValue)"
   ]
  },
  {
   "cell_type": "code",
   "execution_count": 18,
   "id": "f25ecacd",
   "metadata": {},
   "outputs": [
    {
     "name": "stdout",
     "output_type": "stream",
     "text": [
      "The optimal value is : 9.0\n"
     ]
    }
   ],
   "source": [
    "print(\"The optimal value is :\",value(prob.objective))"
   ]
  },
  {
   "cell_type": "code",
   "execution_count": null,
   "id": "04ae21fb",
   "metadata": {},
   "outputs": [],
   "source": []
  }
 ],
 "metadata": {
  "kernelspec": {
   "display_name": "Python 3 (ipykernel)",
   "language": "python",
   "name": "python3"
  },
  "language_info": {
   "codemirror_mode": {
    "name": "ipython",
    "version": 3
   },
   "file_extension": ".py",
   "mimetype": "text/x-python",
   "name": "python",
   "nbconvert_exporter": "python",
   "pygments_lexer": "ipython3",
   "version": "3.11.2"
  }
 },
 "nbformat": 4,
 "nbformat_minor": 5
}

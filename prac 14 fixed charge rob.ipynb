{
 "cells": [
  {
   "cell_type": "code",
   "execution_count": 1,
   "id": "73dd772d-6093-42b5-8073-6848e6c993de",
   "metadata": {},
   "outputs": [
    {
     "name": "stdout",
     "output_type": "stream",
     "text": [
      "Maximum value for x1: 100.0\n",
      "Maximum value for x2: 50.0\n",
      "Maximum value for x3: 66.66666666666667\n"
     ]
    }
   ],
   "source": [
    "import numpy as np\n",
    "\n",
    "\n",
    "# Coefficients of the constraints\n",
    "coefficients = np.array([[2, 3, 6], [6, 3, 4], [5, 6, 2]])\n",
    "\n",
    "\n",
    "# Constants of the constraints\n",
    "constants = np.array([600, 300, 400])\n",
    "\n",
    "\n",
    "# Calculate maximum values for x1, x2, and x3\n",
    "x1_max = min(constants[0] / coefficients[0])\n",
    "x2_max = min(constants[1] / coefficients[1])\n",
    "x3_max = min(constants[2] / coefficients[2])\n",
    "\n",
    "\n",
    "print(\"Maximum value for x1:\", x1_max)\n",
    "print(\"Maximum value for x2:\", x2_max)\n",
    "print(\"Maximum value for x3:\", x3_max)\n",
    "\n"
   ]
  },
  {
   "cell_type": "code",
   "execution_count": null,
   "id": "d6ca3d31-1808-4667-9820-82adbab681d5",
   "metadata": {},
   "outputs": [],
   "source": []
  }
 ],
 "metadata": {
  "kernelspec": {
   "display_name": "Python 3 (ipykernel)",
   "language": "python",
   "name": "python3"
  },
  "language_info": {
   "codemirror_mode": {
    "name": "ipython",
    "version": 3
   },
   "file_extension": ".py",
   "mimetype": "text/x-python",
   "name": "python",
   "nbconvert_exporter": "python",
   "pygments_lexer": "ipython3",
   "version": "3.11.2"
  }
 },
 "nbformat": 4,
 "nbformat_minor": 5
}

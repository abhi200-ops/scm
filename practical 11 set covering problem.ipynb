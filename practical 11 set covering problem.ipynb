{
 "cells": [
  {
   "cell_type": "code",
   "execution_count": 1,
   "id": "f2956a91",
   "metadata": {},
   "outputs": [],
   "source": [
    "from pulp import *"
   ]
  },
  {
   "cell_type": "code",
   "execution_count": 2,
   "id": "8debf9f1",
   "metadata": {},
   "outputs": [
    {
     "name": "stderr",
     "output_type": "stream",
     "text": [
      "C:\\Users\\Lenovo\\AppData\\Local\\Programs\\Python\\Python311\\Lib\\site-packages\\pulp\\pulp.py:1316: UserWarning: Spaces are not permitted in the name. Converted to '_'\n",
      "  warnings.warn(\"Spaces are not permitted in the name. Converted to '_'\")\n"
     ]
    }
   ],
   "source": [
    "prob = LpProblem(\"Simple LP problem\",LpMinimize)\n",
    "x1= LpVariable(\"x1\",0)\n",
    "x2= LpVariable(\"x2\",0)\n",
    "x3= LpVariable(\"x3\",0)\n",
    "x4= LpVariable(\"x4\",0)\n",
    "x5= LpVariable(\"x5\",0)\n",
    "x6= LpVariable(\"x6\",0)\n",
    "x7= LpVariable(\"x7\",0)\n",
    "x8= LpVariable(\"x8\",0)\n",
    "x9= LpVariable(\"x9\",0)\n",
    "x10= LpVariable(\"x10\",0)"
   ]
  },
  {
   "cell_type": "code",
   "execution_count": 3,
   "id": "0757b7e0",
   "metadata": {},
   "outputs": [],
   "source": [
    "prob+= x1+x2+x3+x4+x5+x6+x7+x8+x9+x10"
   ]
  },
  {
   "cell_type": "code",
   "execution_count": 4,
   "id": "03e64369",
   "metadata": {},
   "outputs": [],
   "source": [
    "prob+= x1>=1\n",
    "prob+= x2>=1\n",
    "prob+= x3+x5+x7+x8+x9>=1\n",
    "prob+= x4>=1"
   ]
  },
  {
   "cell_type": "code",
   "execution_count": 5,
   "id": "15db0747",
   "metadata": {},
   "outputs": [],
   "source": [
    "prob+= x3+x5+x8+x9>=1"
   ]
  },
  {
   "cell_type": "code",
   "execution_count": 6,
   "id": "5b5ec408",
   "metadata": {},
   "outputs": [],
   "source": [
    "prob+= x6>=1\n",
    "prob+= x3 + x5 + x7 + x8 + x9>=1\n",
    "prob+= x3 + x5 + x7 + x8 + x9>=1\n",
    "prob+= x3 + x5 + x7 + x8 + x9>=1\n",
    "prob+= x10>=1"
   ]
  },
  {
   "cell_type": "code",
   "execution_count": 7,
   "id": "aab7f0a0",
   "metadata": {},
   "outputs": [
    {
     "data": {
      "text/plain": [
       "1"
      ]
     },
     "execution_count": 7,
     "metadata": {},
     "output_type": "execute_result"
    }
   ],
   "source": [
    "prob.solve()"
   ]
  },
  {
   "cell_type": "code",
   "execution_count": 8,
   "id": "a024d924",
   "metadata": {},
   "outputs": [
    {
     "name": "stdout",
     "output_type": "stream",
     "text": [
      "x1 m 1.0\n",
      "x10 m 1.0\n",
      "x2 m 1.0\n",
      "x3 m 1.0\n",
      "x4 m 1.0\n",
      "x5 m 0.0\n",
      "x6 m 1.0\n",
      "x7 m 0.0\n",
      "x8 m 0.0\n",
      "x9 m 0.0\n"
     ]
    }
   ],
   "source": [
    "for v in prob.variables():\n",
    "    print(v.name,\"m\",v.varValue)"
   ]
  },
  {
   "cell_type": "code",
   "execution_count": 9,
   "id": "0feb2305",
   "metadata": {},
   "outputs": [
    {
     "name": "stdout",
     "output_type": "stream",
     "text": [
      "The optimal value is : 6.0\n"
     ]
    }
   ],
   "source": [
    "print(\"The optimal value is :\",value(prob.objective))\n"
   ]
  },
  {
   "cell_type": "code",
   "execution_count": null,
   "id": "441d21b0",
   "metadata": {},
   "outputs": [],
   "source": []
  }
 ],
 "metadata": {
  "kernelspec": {
   "display_name": "Python 3 (ipykernel)",
   "language": "python",
   "name": "python3"
  },
  "language_info": {
   "codemirror_mode": {
    "name": "ipython",
    "version": 3
   },
   "file_extension": ".py",
   "mimetype": "text/x-python",
   "name": "python",
   "nbconvert_exporter": "python",
   "pygments_lexer": "ipython3",
   "version": "3.11.2"
  }
 },
 "nbformat": 4,
 "nbformat_minor": 5
}

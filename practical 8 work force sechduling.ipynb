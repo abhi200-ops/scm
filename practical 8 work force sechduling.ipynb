{
 "cells": [
  {
   "cell_type": "code",
   "execution_count": 4,
   "id": "de631aee-ab08-4dbf-8cc6-9ed5bbd4375e",
   "metadata": {},
   "outputs": [],
   "source": [
    "from pulp import *"
   ]
  },
  {
   "cell_type": "code",
   "execution_count": 5,
   "id": "2a64cfdc-dc8a-4333-b691-b9e4db948b44",
   "metadata": {},
   "outputs": [
    {
     "name": "stderr",
     "output_type": "stream",
     "text": [
      "C:\\Users\\nikhi\\AppData\\Roaming\\Python\\Python311\\site-packages\\pulp\\pulp.py:1316: UserWarning: Spaces are not permitted in the name. Converted to '_'\n",
      "  warnings.warn(\"Spaces are not permitted in the name. Converted to '_'\")\n"
     ]
    }
   ],
   "source": [
    "prob = LpProblem(\"Simple LP problem\",LpMinimize)\n",
    "x1= LpVariable(\"x1\")\n",
    "x2= LpVariable(\"x2\")\n",
    "x3= LpVariable(\"x3\")\n",
    "x4= LpVariable(\"x4\")\n",
    "x5= LpVariable(\"x5\")\n",
    "x6= LpVariable(\"x6\")\n",
    "x7= LpVariable(\"x7\")"
   ]
  },
  {
   "cell_type": "code",
   "execution_count": 6,
   "id": "b9bf6044-d1b2-4705-aae7-99169e757025",
   "metadata": {},
   "outputs": [
    {
     "data": {
      "text/plain": [
       "1"
      ]
     },
     "execution_count": 6,
     "metadata": {},
     "output_type": "execute_result"
    }
   ],
   "source": [
    "prob+= x1+x4+x5+x6+x7>= 17\n",
    "prob+= x1+x2+x5+x6+x7>=13\n",
    "prob+= x1+x2+x3+x6+x7>=15\n",
    "prob+= x1+x2+x3+x4+x7>=17\n",
    "prob+= x1+x2+x3+x4+x5>=9\n",
    "prob+= x2+x3+x4+x5+x6>=9\n",
    "prob+= x3+x4+x5+x6+x7>=12\n",
    "prob+= x1+x4+x5+x6+x7==17\n",
    "prob+= x1+x2+x5+x6+x7==16\n",
    "prob+= x1+x2+x3+x6+x7==15\n",
    "prob+= x1+x2+x3+x4+x7==17\n",
    "prob+= x1+x2+x3+x4+x5==9\n",
    "prob+= x2+x3+x4+x5+x6==10\n",
    "prob+= x3+x4+x5+x6+x7==16\n",
    "prob+=x1+x2+x3+x4+x5+x6+x7\n",
    "prob.solve()"
   ]
  },
  {
   "cell_type": "code",
   "execution_count": 7,
   "id": "ae15a0d4-c66c-46ec-a344-6f5be3670c62",
   "metadata": {},
   "outputs": [
    {
     "name": "stdout",
     "output_type": "stream",
     "text": [
      "x1 m 1.0\n",
      "x2 m 3.0\n",
      "x3 m 0.0\n",
      "x4 m 4.0\n",
      "x5 m 1.0\n",
      "x6 m 2.0\n",
      "x7 m 9.0\n"
     ]
    }
   ],
   "source": [
    "for v in prob.variables():\n",
    "    print(v.name,\"m\",v.varValue)\n"
   ]
  },
  {
   "cell_type": "code",
   "execution_count": 8,
   "id": "ef88a382-a5dd-4d4f-9991-39a0012fa0a7",
   "metadata": {},
   "outputs": [
    {
     "name": "stdout",
     "output_type": "stream",
     "text": [
      "The optimal value is : 20.0\n"
     ]
    }
   ],
   "source": [
    "print(\"The optimal value is :\",value(prob.objective))"
   ]
  },
  {
   "cell_type": "code",
   "execution_count": null,
   "id": "dfeb04f2-d26a-441a-a3c9-cb411505fa48",
   "metadata": {},
   "outputs": [],
   "source": []
  },
  {
   "cell_type": "code",
   "execution_count": null,
   "id": "3ebdfdba-867a-4e25-97c7-dc75edff569c",
   "metadata": {},
   "outputs": [],
   "source": []
  }
 ],
 "metadata": {
  "kernelspec": {
   "display_name": "Python 3 (ipykernel)",
   "language": "python",
   "name": "python3"
  },
  "language_info": {
   "codemirror_mode": {
    "name": "ipython",
    "version": 3
   },
   "file_extension": ".py",
   "mimetype": "text/x-python",
   "name": "python",
   "nbconvert_exporter": "python",
   "pygments_lexer": "ipython3",
   "version": "3.11.7"
  }
 },
 "nbformat": 4,
 "nbformat_minor": 5
}

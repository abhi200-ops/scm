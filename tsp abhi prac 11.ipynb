{
 "cells": [
  {
   "cell_type": "code",
   "execution_count": 1,
   "id": "f3e24cd1",
   "metadata": {},
   "outputs": [],
   "source": [
    "from pulp import *"
   ]
  },
  {
   "cell_type": "code",
   "execution_count": 2,
   "id": "bef0b0d4",
   "metadata": {},
   "outputs": [],
   "source": [
    "prob=LpProblem('tsp',LpMinimize)"
   ]
  },
  {
   "cell_type": "code",
   "execution_count": 3,
   "id": "de2b71d6",
   "metadata": {},
   "outputs": [],
   "source": [
    "x1=LpVariable('x1',cat='binary')\n",
    "x2=LpVariable('x2',cat='binary')\n",
    "x3=LpVariable('x3',cat='binary')\n",
    "x4=LpVariable('x4',cat='binary')\n",
    "x5=LpVariable('x5',cat='binary')\n",
    "x6=LpVariable('x6',cat='binary')\n",
    "x7=LpVariable('x7',cat='binary')\n",
    "x8=LpVariable('x8',cat='binary')\n",
    "x9=LpVariable('x9',cat='binary')\n",
    "x10=LpVariable('x10',cat='binary')"
   ]
  },
  {
   "cell_type": "code",
   "execution_count": 4,
   "id": "dc3cc51e",
   "metadata": {},
   "outputs": [],
   "source": [
    "prob+=x1 >=1\n",
    "prob+=x2>=1\n",
    "prob+=x3+x5+x7+x9+x8>=1\n",
    "prob+=x4>=1\n",
    "prob+=x3+x5+x6+x8+x9>=1\n",
    "prob+=x6+x5+x9>=1\n",
    "prob+=x3+x8+x7+x9>=1\n",
    "prob+=x3+x5+x7+x8+x9>=1\n",
    "prob+=x3+x5+x7+x8+x9+x6>=1\n",
    "prob+=x10>=1"
   ]
  },
  {
   "cell_type": "code",
   "execution_count": 5,
   "id": "6b5ea785",
   "metadata": {},
   "outputs": [],
   "source": [
    "prob+=lpSum([x1,x2,x3,x4,x5,x6,x7,x8,x9,x10])"
   ]
  },
  {
   "cell_type": "code",
   "execution_count": 6,
   "id": "86ffb23f",
   "metadata": {},
   "outputs": [
    {
     "data": {
      "text/plain": [
       "1"
      ]
     },
     "execution_count": 6,
     "metadata": {},
     "output_type": "execute_result"
    }
   ],
   "source": [
    "prob.solve()"
   ]
  },
  {
   "cell_type": "code",
   "execution_count": 7,
   "id": "de058d35",
   "metadata": {},
   "outputs": [
    {
     "name": "stdout",
     "output_type": "stream",
     "text": [
      "x1\n",
      "x10\n",
      "x2\n",
      "x4\n",
      "x9\n"
     ]
    }
   ],
   "source": [
    "for v in prob.variables():\n",
    "    if v.varValue ==  1:\n",
    "        print(v.name)"
   ]
  },
  {
   "cell_type": "code",
   "execution_count": 32,
   "id": "b95c2714",
   "metadata": {},
   "outputs": [
    {
     "data": {
      "text/plain": [
       "5.0"
      ]
     },
     "execution_count": 32,
     "metadata": {},
     "output_type": "execute_result"
    }
   ],
   "source": [
    "value(prob.objective)"
   ]
  },
  {
   "cell_type": "code",
   "execution_count": null,
   "id": "7db2dc1d",
   "metadata": {},
   "outputs": [],
   "source": []
  }
 ],
 "metadata": {
  "kernelspec": {
   "display_name": "Python 3 (ipykernel)",
   "language": "python",
   "name": "python3"
  },
  "language_info": {
   "codemirror_mode": {
    "name": "ipython",
    "version": 3
   },
   "file_extension": ".py",
   "mimetype": "text/x-python",
   "name": "python",
   "nbconvert_exporter": "python",
   "pygments_lexer": "ipython3",
   "version": "3.11.2"
  }
 },
 "nbformat": 4,
 "nbformat_minor": 5
}

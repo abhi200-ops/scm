{
 "cells": [
  {
   "cell_type": "code",
   "execution_count": 1,
   "id": "c3d5ccc5",
   "metadata": {},
   "outputs": [],
   "source": [
    "from pulp import*"
   ]
  },
  {
   "cell_type": "code",
   "execution_count": 15,
   "id": "251850b7",
   "metadata": {},
   "outputs": [],
   "source": [
    "#q2\n",
    "prob = LpProblem(\"Simple LP problem\",LpMinimize)\n",
    "x13= LpVariable(\"x13\",0)\n",
    "x14= LpVariable(\"x14\",0)\n",
    "x23= LpVariable(\"x23\",0)\n",
    "x24= LpVariable(\"x24\",0)\n",
    "x35= LpVariable(\"x35\",0)\n",
    "x36= LpVariable(\"x36\",0)\n",
    "x37= LpVariable(\"x37\",0)\n",
    "x38= LpVariable(\"x38\",0)\n",
    "x45= LpVariable(\"x45\",0)\n",
    "x46= LpVariable(\"x46\",0)\n",
    "x47= LpVariable(\"x47\",0)\n",
    "x48= LpVariable(\"x48\",0)"
   ]
  },
  {
   "cell_type": "code",
   "execution_count": 18,
   "id": "fe0d8962",
   "metadata": {},
   "outputs": [],
   "source": [
    "prob+= x35+x36+x37+x38-x13-x23==0\n",
    "prob+= x45+x46+x47+x48-x14-x24==0\n",
    "prob+= x13+x14 <=600\n",
    "prob+= x23+x24 <=400"
   ]
  },
  {
   "cell_type": "code",
   "execution_count": 19,
   "id": "78821104",
   "metadata": {},
   "outputs": [],
   "source": [
    "prob+= x35+x45 == 200\n",
    "prob+= x36+x46 == 150\n",
    "prob+= x37+x47 == 350\n",
    "prob+= x38+x48 == 300"
   ]
  },
  {
   "cell_type": "code",
   "execution_count": 20,
   "id": "fd5c3e54",
   "metadata": {},
   "outputs": [],
   "source": [
    "prob+= 2*x13+3*x14+3*x23+2*x24+2*x35+6*x36+3*x37+6*x38+4*x45+4*x46+6*x47+8*x48"
   ]
  },
  {
   "cell_type": "code",
   "execution_count": 22,
   "id": "6a4d89e5",
   "metadata": {},
   "outputs": [
    {
     "data": {
      "text/plain": [
       "1"
      ]
     },
     "execution_count": 22,
     "metadata": {},
     "output_type": "execute_result"
    }
   ],
   "source": [
    "prob.solve()"
   ]
  },
  {
   "cell_type": "code",
   "execution_count": 23,
   "id": "91efc074",
   "metadata": {},
   "outputs": [
    {
     "name": "stdout",
     "output_type": "stream",
     "text": [
      "x13 m 600.0\n",
      "x14 m 0.0\n",
      "x23 m 250.0\n",
      "x24 m 150.0\n",
      "x35 m 200.0\n",
      "x36 m 0.0\n",
      "x37 m 350.0\n",
      "x38 m 300.0\n",
      "x45 m 0.0\n",
      "x46 m 150.0\n",
      "x47 m 0.0\n",
      "x48 m 0.0\n"
     ]
    }
   ],
   "source": [
    "for v in prob.variables():\n",
    "    print(v.name,\"m\",v.varValue)"
   ]
  },
  {
   "cell_type": "code",
   "execution_count": 24,
   "id": "e37277c9",
   "metadata": {},
   "outputs": [
    {
     "name": "stdout",
     "output_type": "stream",
     "text": [
      "The optimal value is : 6100.0\n"
     ]
    }
   ],
   "source": [
    "print(\"The optimal value is :\",value(prob.objective))"
   ]
  },
  {
   "cell_type": "code",
   "execution_count": null,
   "id": "17d4d32f",
   "metadata": {},
   "outputs": [],
   "source": []
  }
 ],
 "metadata": {
  "kernelspec": {
   "display_name": "Python 3 (ipykernel)",
   "language": "python",
   "name": "python3"
  },
  "language_info": {
   "codemirror_mode": {
    "name": "ipython",
    "version": 3
   },
   "file_extension": ".py",
   "mimetype": "text/x-python",
   "name": "python",
   "nbconvert_exporter": "python",
   "pygments_lexer": "ipython3",
   "version": "3.11.7"
  }
 },
 "nbformat": 4,
 "nbformat_minor": 5
}

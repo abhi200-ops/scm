{
 "cells": [
  {
   "cell_type": "code",
   "execution_count": 1,
   "id": "7313d415-0518-4be8-9b89-8d6f6ba0135d",
   "metadata": {},
   "outputs": [],
   "source": [
    "from pulp import *"
   ]
  },
  {
   "cell_type": "code",
   "execution_count": 2,
   "id": "44e389e2-3f25-4911-b10f-439f0d9e8de0",
   "metadata": {},
   "outputs": [],
   "source": [
    "prob=LpProblem(\"knapsack\",LpMaximize)\n",
    "x1=LpVariable('x1',lowBound=0,upBound=1,cat='binary')\n",
    "x2=LpVariable('x2',lowBound=0,upBound=1,cat='binary')\n",
    "x3=LpVariable('x3',lowBound=0,upBound=1,cat='binary')\n",
    "x4=LpVariable('x4',lowBound=0,upBound=1,cat='binary')\n",
    "x5=LpVariable('x5',lowBound=0,upBound=1,cat='binary')\n"
   ]
  },
  {
   "cell_type": "code",
   "execution_count": 3,
   "id": "aeaf25fb-dfe4-4210-a750-01d5bce91266",
   "metadata": {},
   "outputs": [],
   "source": [
    "prob+=+4*x1+2*x2+10*x3+x4+2*x5\n",
    "prob+=+12*x1+x2+4*x3+x4+2*x5<=15"
   ]
  },
  {
   "cell_type": "code",
   "execution_count": 4,
   "id": "c7181f9a-daab-4892-b8f7-363ce7458339",
   "metadata": {},
   "outputs": [
    {
     "data": {
      "text/plain": [
       "1"
      ]
     },
     "execution_count": 4,
     "metadata": {},
     "output_type": "execute_result"
    }
   ],
   "source": [
    "prob.solve()"
   ]
  },
  {
   "cell_type": "code",
   "execution_count": 5,
   "id": "fe6f7154-5921-4996-b57c-7afd1894a69a",
   "metadata": {},
   "outputs": [
    {
     "name": "stdout",
     "output_type": "stream",
     "text": [
      "x1    0\n",
      "x2    1.0\n",
      "x3    1.0\n",
      "x4    1.0\n",
      "x5    1.0\n"
     ]
    }
   ],
   "source": [
    "for v in prob.variables():\n",
    "    if v.varValue <1:\n",
    "        v.varValue=0\n",
    "    print(v.name,'  ',v.varValue)"
   ]
  },
  {
   "cell_type": "code",
   "execution_count": 6,
   "id": "e0ba9732-759e-40cc-96bb-00a37f1d5549",
   "metadata": {},
   "outputs": [
    {
     "name": "stdout",
     "output_type": "stream",
     "text": [
      "15.0\n"
     ]
    }
   ],
   "source": [
    "print(value(prob.objective))"
   ]
  },
  {
   "cell_type": "code",
   "execution_count": null,
   "id": "6311b89d-5782-4153-aa80-85f9fbb857d0",
   "metadata": {},
   "outputs": [],
   "source": []
  }
 ],
 "metadata": {
  "kernelspec": {
   "display_name": "Python 3 (ipykernel)",
   "language": "python",
   "name": "python3"
  },
  "language_info": {
   "codemirror_mode": {
    "name": "ipython",
    "version": 3
   },
   "file_extension": ".py",
   "mimetype": "text/x-python",
   "name": "python",
   "nbconvert_exporter": "python",
   "pygments_lexer": "ipython3",
   "version": "3.11.7"
  }
 },
 "nbformat": 4,
 "nbformat_minor": 5
}

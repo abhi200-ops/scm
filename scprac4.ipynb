{
 "cells": [
  {
   "cell_type": "code",
   "execution_count": 1,
   "id": "730733b6",
   "metadata": {},
   "outputs": [],
   "source": [
    "import pandas as pd\n",
    "import numpy as np\n",
    "from pulp import * "
   ]
  },
  {
   "cell_type": "code",
   "execution_count": 2,
   "id": "f1317108",
   "metadata": {},
   "outputs": [
    {
     "name": "stderr",
     "output_type": "stream",
     "text": [
      "C:\\Users\\Lenovo\\AppData\\Local\\Programs\\Python\\Python311\\Lib\\site-packages\\pulp\\pulp.py:1316: UserWarning: Spaces are not permitted in the name. Converted to '_'\n",
      "  warnings.warn(\"Spaces are not permitted in the name. Converted to '_'\")\n"
     ]
    }
   ],
   "source": [
    "prob=LpProblem('minimization problem',LpMinimize)"
   ]
  },
  {
   "cell_type": "code",
   "execution_count": 3,
   "id": "d79cbe0c",
   "metadata": {},
   "outputs": [],
   "source": [
    "x12=LpVariable('x12',0)\n",
    "x13=LpVariable('x13',0)\n",
    "x24=LpVariable('x24',0)\n",
    "x23=LpVariable('x23',0)\n",
    "x35=LpVariable('x35',0)\n",
    "x36=LpVariable('x36',0)\n",
    "x46=LpVariable('x46',0)\n",
    "x47=LpVariable('x47',0)\n",
    "x56=LpVariable('x56',0)\n",
    "x59=LpVariable('x59',0)\n",
    "x69=LpVariable('x69',0)\n",
    "x68=LpVariable('x68',0)\n",
    "x78=LpVariable('x78',0)\n",
    "x710=LpVariable('x710',0)\n",
    "x89=LpVariable('x89',0)\n",
    "x810=LpVariable('x810',0)\n",
    "x911=LpVariable('x911',0)\n",
    "x1011=LpVariable('x1011',0)"
   ]
  },
  {
   "cell_type": "code",
   "execution_count": 5,
   "id": "8378c5d8",
   "metadata": {},
   "outputs": [],
   "source": [
    "prob+=2.5*x12+3*x13+2.5*x24+1.7*x23+1.7*x35+2.8*x36+2*x46+1.5*x47+2*x56+5*x59+4.7*x69+3*x68+1.5*x78+2.3*x710+2*x89+1.1*x810+3.3*x911+2.7*x1011"
   ]
  },
  {
   "cell_type": "code",
   "execution_count": 6,
   "id": "21b66d1e",
   "metadata": {},
   "outputs": [],
   "source": [
    "prob+=-x13-x12==-1\n",
    "prob+=x12-x23-x24==0\n",
    "prob+=x13+x23-x35-x36==0\n",
    "prob+=x24-x46-x47==0\n",
    "prob+=x35-x56-x59==0\n",
    "prob+=x36+x46+x56-x68-x69==0\n",
    "prob+=x47-x78-x710==0\n",
    "prob+=x68+x78-x89-x810==0\n",
    "prob+=x59+x69+x89-x911==0\n",
    "prob+=x810+x710-x1011==0\n",
    "prob+=x911+x1011==1"
   ]
  },
  {
   "cell_type": "code",
   "execution_count": 7,
   "id": "b629ec7c",
   "metadata": {},
   "outputs": [
    {
     "data": {
      "text/plain": [
       "1"
      ]
     },
     "execution_count": 7,
     "metadata": {},
     "output_type": "execute_result"
    }
   ],
   "source": [
    "prob.solve()"
   ]
  },
  {
   "cell_type": "code",
   "execution_count": 8,
   "id": "8f64efb0",
   "metadata": {},
   "outputs": [
    {
     "name": "stdout",
     "output_type": "stream",
     "text": [
      "x1011 1.0\n",
      "x12 1.0\n",
      "x13 0.0\n",
      "x23 0.0\n",
      "x24 1.0\n",
      "x35 0.0\n",
      "x36 0.0\n",
      "x46 0.0\n",
      "x47 1.0\n",
      "x56 0.0\n",
      "x59 0.0\n",
      "x68 -0.0\n",
      "x69 0.0\n",
      "x710 1.0\n",
      "x78 0.0\n",
      "x810 -0.0\n",
      "x89 0.0\n",
      "x911 0.0\n"
     ]
    }
   ],
   "source": [
    "for v in prob.variables():\n",
    "    print(v.name,v.varValue)"
   ]
  },
  {
   "cell_type": "code",
   "execution_count": 9,
   "id": "eb4018d3",
   "metadata": {},
   "outputs": [
    {
     "name": "stdout",
     "output_type": "stream",
     "text": [
      "11.5\n"
     ]
    }
   ],
   "source": [
    "print(value(prob.objective))"
   ]
  },
  {
   "cell_type": "code",
   "execution_count": null,
   "id": "a915cb09",
   "metadata": {},
   "outputs": [],
   "source": []
  }
 ],
 "metadata": {
  "kernelspec": {
   "display_name": "Python 3 (ipykernel)",
   "language": "python",
   "name": "python3"
  },
  "language_info": {
   "codemirror_mode": {
    "name": "ipython",
    "version": 3
   },
   "file_extension": ".py",
   "mimetype": "text/x-python",
   "name": "python",
   "nbconvert_exporter": "python",
   "pygments_lexer": "ipython3",
   "version": "3.11.2"
  }
 },
 "nbformat": 4,
 "nbformat_minor": 5
}
